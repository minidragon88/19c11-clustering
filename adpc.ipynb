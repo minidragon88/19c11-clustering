{
  "nbformat": 4,
  "nbformat_minor": 0,
  "metadata": {
    "colab": {
      "name": "adpc.ipynb",
      "provenance": [],
      "collapsed_sections": []
    },
    "kernelspec": {
      "name": "python3",
      "display_name": "Python 3"
    }
  },
  "cells": [
    {
      "cell_type": "markdown",
      "metadata": {
        "id": "NSj6a1hiTWPC",
        "colab_type": "text"
      },
      "source": [
        "Declaration"
      ]
    },
    {
      "cell_type": "code",
      "metadata": {
        "id": "xAMCm9Y7TaVQ",
        "colab_type": "code",
        "colab": {}
      },
      "source": [
        "import numpy as np\n",
        "import os\n",
        "import urllib.request\n",
        "from sklearn import mixture\n",
        "from scipy.spatial import distance\n",
        "import math\n",
        "\n",
        "CUT_OFF_IN_PERCENT = 0.02\n",
        "\n",
        "# Clustering data set\n",
        "# http://cs.joensuu.fi/sipu/datasets/\n",
        "def download_data_set(file_url = 'http://cs.joensuu.fi/sipu/datasets/s1.txt'):\n",
        "  local_filename, headers = urllib.request.urlretrieve(url = file_url)\n",
        "  return np.loadtxt(local_filename)\n",
        "\n",
        "def gmm_selection(data_set):\n",
        "  lowest_bic = np.infty\n",
        "  bic = []\n",
        "  n_components_range = range(1, 10)\n",
        "  cv_types = ['spherical', 'tied', 'diag', 'full']\n",
        "  for cv_type in cv_types:\n",
        "    for n_components in n_components_range:\n",
        "        # Fit a Gaussian mixture with EM\n",
        "        gmm = mixture.GaussianMixture(n_components=n_components, covariance_type=cv_type)\n",
        "        gmm.fit(data_set)\n",
        "        bic.append(gmm.bic(data_set))\n",
        "        if bic[-1] < lowest_bic:\n",
        "            lowest_bic = bic[-1]\n",
        "            best_gmm = gmm\n",
        "  return best_gmm\n",
        "\n",
        "# Get all euclid distance between points with keeping their respective order\n",
        "def get_all_distances(data_set):\n",
        "  arr_leng, dims = data_set.shape\n",
        "  all_distances = []\n",
        "  for i in range(arr_leng):\n",
        "    current_point_distances = []\n",
        "    for j in range(arr_leng):\n",
        "      if i == j:\n",
        "        continue\n",
        "      current_point_distances.append(distance.euclidean(data_set[i], data_set[j]))\n",
        "    all_distances.append(current_point_distances)\n",
        "  return np.array(all_distances)\n",
        "\n",
        "def get_cut_off_distance(distances_data):\n",
        "  arr_leng, dims = distances_data.shape\n",
        "  all_distances = []\n",
        "  # Merge all the distances to a single list\n",
        "  for i in range(arr_leng):\n",
        "    for j in range(dims):\n",
        "      all_distances.append(distances_data[i][j])\n",
        "  # Calculate the number of items to retrieve\n",
        "  number_of_items = math.ceil(CUT_OFF_IN_PERCENT * len(all_distances))\n",
        "  total = 0\n",
        "  for i in range(number_of_items):\n",
        "    total += all_distances[i]\n",
        "  return total / number_of_items\n",
        "\n",
        "def get_density_of_point(point_distance, cut_off_distance):\n",
        "  arr_leng = len(point_distance)\n",
        "  result = 0\n",
        "  for i in range(arr_leng):\n",
        "    if point_distance[i] < cut_off_distance:\n",
        "      result += 1\n",
        "  return result\n",
        "\n",
        "def get_densities(distances_data, cut_off_distance):\n",
        "  arr_leng, dims = distances_data.shape\n",
        "  result = []\n",
        "  for i in range(arr_leng):\n",
        "    result.append(get_density_of_point(distances_data[i], cut_off_distance))\n",
        "  return np.array(result)"
      ],
      "execution_count": 8,
      "outputs": []
    },
    {
      "cell_type": "markdown",
      "metadata": {
        "id": "q-MxoK4GUGOD",
        "colab_type": "text"
      },
      "source": [
        "Download S1 data set, get all distances arrays and calculate cut off distance"
      ]
    },
    {
      "cell_type": "code",
      "metadata": {
        "id": "Ld46kkgKUGeW",
        "colab_type": "code",
        "colab": {
          "base_uri": "https://localhost:8080/",
          "height": 35
        },
        "outputId": "39c27179-b132-4f8d-91ba-803a638ab8cc"
      },
      "source": [
        "r15 = download_data_set(\"http://cs.joensuu.fi/sipu/datasets/R15.txt\")\n",
        "all_distances = get_all_distances(r15)\n",
        "cut_off_distance = get_cut_off_distance(all_distances)\n",
        "print(all_distances.shape)"
      ],
      "execution_count": 9,
      "outputs": [
        {
          "output_type": "stream",
          "text": [
            "(600, 599)\n"
          ],
          "name": "stdout"
        }
      ]
    },
    {
      "cell_type": "code",
      "metadata": {
        "id": "Sx807zAKgCNY",
        "colab_type": "code",
        "colab": {
          "base_uri": "https://localhost:8080/",
          "height": 104
        },
        "outputId": "3cbecc4e-0ba8-4ffc-bb49-41634cee2dfd"
      },
      "source": [
        "abc = np.array([1,2,3,4,5,6,7,8,9,10,11,12])\n",
        "vvv = gmm_selection(np.expand_dims(abc,1))\n",
        "print(vvv)\n",
        "print(vvv.predict(np.expand_dims(abc,1)))\n",
        "\n"
      ],
      "execution_count": 125,
      "outputs": [
        {
          "output_type": "stream",
          "text": [
            "GaussianMixture(covariance_type='full', init_params='kmeans', max_iter=100,\n",
            "                means_init=None, n_components=9, n_init=1, precisions_init=None,\n",
            "                random_state=None, reg_covar=1e-06, tol=0.001, verbose=0,\n",
            "                verbose_interval=10, warm_start=False, weights_init=None)\n",
            "[2 6 7 4 0 0 8 3 3 3 5 1]\n"
          ],
          "name": "stdout"
        }
      ]
    },
    {
      "cell_type": "code",
      "metadata": {
        "id": "svNkPkZS6hxG",
        "colab_type": "code",
        "colab": {
          "base_uri": "https://localhost:8080/",
          "height": 849
        },
        "outputId": "aa002b97-fef1-4bb5-a92a-ba661cd8f5a7"
      },
      "source": [
        "print(all_distances)\n",
        "print(cut_off_distance)\n",
        "densities = get_densities(all_distances, cut_off_distance * 0.5)\n",
        "print(densities)"
      ],
      "execution_count": 12,
      "outputs": [
        {
          "output_type": "stream",
          "text": [
            "[[ 0.65787537  0.32916865  0.2333838  ... 15.32471703 15.72323885\n",
            "  15.30372007]\n",
            " [ 0.65787537  0.33452055  0.63605346 ... 15.08311294 15.44720505\n",
            "  15.05737746]\n",
            " [ 0.32916865  0.33452055  0.37617549 ... 15.20757522 15.58921319\n",
            "  15.18268619]\n",
            " ...\n",
            " [15.32471703 15.08311294 15.20757522 ...  0.92856879  0.95651451\n",
            "   0.55160856]\n",
            " [15.72323885 15.44720505 15.58921319 ...  0.11160645  0.95651451\n",
            "   1.0343423 ]\n",
            " [15.30372007 15.05737746 15.18268619 ...  1.06704077  0.55160856\n",
            "   1.0343423 ]]\n",
            "8.189126572820593\n",
            "[159 157 159 159 159 159 158 159 158 160 159 159 159 159 159 159 157 158\n",
            " 159 159 159 159 159 138 158 159 159 157 159 157 159 159 158 159 159 159\n",
            " 159 159 159 142 157 157 150 157 148 152 156 141 159 145 159 158 148 143\n",
            " 148 152 148 153 157 159 142 159 148 157 159 159 157 135 159 148 154 157\n",
            " 153 159 150 153 157 148 157 157 196 198 198 197 197 198 198 190 198 198\n",
            " 170 197 197 198 175 198 199 198 188 198 196 199 175 196 195 196 181 199\n",
            " 198 173 199 162 198 174 197 170 193 195 199 176 205 221 234 200 239 229\n",
            " 242 229 219 239 236 218 192 215 224 235 221 237 227 223 204 215 207 244\n",
            " 221 237 238 227 222 184 207 228 238 239 228 225 237 219 216 229 183 191\n",
            " 195 192 187 170 185 193 201 198 190 183 163 177 191 189 184 190 187 187\n",
            " 192 194 198 164 174 195 171 189 179 188 163 158 186 178 167 186 198 193\n",
            " 197 192 184 167 191 186 186 179 166 146 173 162 188 195 188 195 171 150\n",
            " 194 193 193 186 166 183 185 186 199 163 193 180 167 183 194 188 181 195\n",
            " 177 197 168 194 156 196 161 152 159 150 151 161 149 153 159 150 151 154\n",
            " 158 159 151 156 135 161 159 151 161 149 159 161 143 159 146 159 155 147\n",
            " 159 159 155 135 146 157 138 153 130 151 108 105 122 113  98  98  89  95\n",
            " 116 118 114 112 118  90  98 116 106 116 108 114  98 115  95 115 115 118\n",
            " 117 111 115  83 112 115 118  95 112 119 124 117 113 115  39  39  39  39\n",
            "  39  39  39  39  39  39  39  39  39  39  39  39  39  39  39  39  39  39\n",
            "  39  39  39  39  39  39  39  39  39  39  39  39  39  39  39  39  39  39\n",
            "  39  39  39  39  39  39  39  39  39  39  39  39  39  39  39  39  39  39\n",
            "  39  39  39  39  39  39  39  39  39  39  39  39  39  39  39  39  39  39\n",
            "  39  39  39  39  39  39  39  39  39  39  39  39  39  39  39  39  39  39\n",
            "  39  39  39  39  39  39  39  39  39  39  39  39  39  39  39  39  39  39\n",
            "  39  39  39  39  39  39  39  39  39  39  39  39  39  39  39  39  39  39\n",
            "  39  39  39  39  39  39  39  39  39  39  39  39  39  39  39  39  39  39\n",
            "  39  39  39  39  39  39  39  39  39  39  39  39  39  39  39  39  39  39\n",
            "  39  39  39  39  39  39  39  39  39  39  39  39  39  39  39  39  39  39\n",
            "  39  39  39  39  39  39  39  39  39  39  39  39  39  39  39  39  39  39\n",
            "  39  39  39  39  39  39  39  39  39  39  39  39  39  39  39  39  39  39\n",
            "  39  39  39  39  39  39  39  39  39  39  39  39  39  39  39  39  39  39\n",
            "  39  39  39  39  39  39  39  39  39  39  39  39  39  39  39  39  39  39\n",
            "  39  39  39  39  39  39  39  39  39  39  39  39  39  39  39  39  39  39\n",
            "  39  39  39  39  39  39]\n"
          ],
          "name": "stdout"
        }
      ]
    }
  ]
}